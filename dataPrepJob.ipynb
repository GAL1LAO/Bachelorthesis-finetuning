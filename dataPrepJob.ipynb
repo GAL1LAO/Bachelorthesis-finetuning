{
 "cells": [
  {
   "cell_type": "code",
   "execution_count": 3,
   "id": "a105780b-ab5d-4999-bb26-b69a04fdb0e8",
   "metadata": {},
   "outputs": [
    {
     "name": "stdout",
     "output_type": "stream",
     "text": [
      "Requirement already satisfied: jsonlines in /Library/Frameworks/Python.framework/Versions/3.12/lib/python3.12/site-packages (4.0.0)\n",
      "Requirement already satisfied: attrs>=19.2.0 in /Library/Frameworks/Python.framework/Versions/3.12/lib/python3.12/site-packages (from jsonlines) (23.2.0)\n",
      "Note: you may need to restart the kernel to use updated packages.\n"
     ]
    }
   ],
   "source": [
    "%pip install jsonlines"
   ]
  },
  {
   "cell_type": "code",
   "execution_count": 4,
   "id": "ed09765e-2007-452f-af10-41f916d4a526",
   "metadata": {},
   "outputs": [],
   "source": [
    "import random\n",
    "import jsonlines"
   ]
  },
  {
   "cell_type": "code",
   "execution_count": 5,
   "id": "a0eb0db8-b004-4041-aa33-1ec7b5a4f191",
   "metadata": {},
   "outputs": [],
   "source": [
    "data = []\n",
    "with jsonlines.open('data102.jsonl') as reader:\n",
    "    for obj in reader:\n",
    "        data.append(obj)\n",
    "        \n",
    "random.seed(42)\n",
    "random.shuffle(data)"
   ]
  },
  {
   "cell_type": "code",
   "execution_count": 11,
   "id": "8e714769-8059-4e64-9d86-ce1e96916a37",
   "metadata": {},
   "outputs": [],
   "source": [
    "\n",
    "data_size = len(data)\n",
    "train_split = int(data_size  * 0.7)\n",
    "test_split = int(data_size  * 0.15)\n",
    "\n",
    "train_data = data[:train_split]\n",
    "test_data = data[train_split:train_split+test_split]\n",
    "validation_data = data[train_split+test_split:]\n",
    "\n",
    "with jsonlines.open('70-30/train_data.jsonl', mode='w') as writer:\n",
    "    for item in train_data:\n",
    "       writer.write(item)\n",
    "\n",
    "with jsonlines.open('70-30/test_data.jsonl', mode='w') as writer:\n",
    "    for item in test_data:\n",
    "       writer.write(item)\n",
    "\n",
    "with jsonlines.open('70-30/validation_data.jsonl', mode='w') as writer:\n",
    "    for item in validation_data:\n",
    "       writer.write(item)\n",
    "\n",
    "# in case of no need for validation_data_set: \n",
    "test_validation_data = test_data + validation_data\n",
    "with jsonlines.open('70-30/test_validation_data.jsonl', mode='w') as writer:\n",
    "    for item in test_validation_data:\n",
    "       writer.write(item)"
   ]
  },
  {
   "cell_type": "code",
   "execution_count": 12,
   "id": "22f65601-efc1-4acd-a3fd-07e355c15976",
   "metadata": {},
   "outputs": [],
   "source": [
    "\n",
    "data_size = len(data)\n",
    "train_split = int(data_size  * 0.8)\n",
    "test_split = int(data_size  * 0.1)\n",
    "\n",
    "train_data = data[:train_split]\n",
    "test_data = data[train_split:train_split+test_split]\n",
    "validation_data = data[train_split+test_split:]\n",
    "\n",
    "with jsonlines.open('80-20/train_data.jsonl', mode='w') as writer:\n",
    "    for item in train_data:\n",
    "       writer.write(item)\n",
    "\n",
    "with jsonlines.open('80-20/test_data.jsonl', mode='w') as writer:\n",
    "    for item in test_data:\n",
    "       writer.write(item)\n",
    "\n",
    "with jsonlines.open('80-20/validation_data.jsonl', mode='w') as writer:\n",
    "    for item in validation_data:\n",
    "       writer.write(item)\n",
    "\n",
    "# in case of no need for validation_data_set: \n",
    "test_validation_data = test_data + validation_data\n",
    "with jsonlines.open('80-20/test_validation_data.jsonl', mode='w') as writer:\n",
    "    for item in test_validation_data:\n",
    "       writer.write(item)"
   ]
  },
  {
   "cell_type": "code",
   "execution_count": null,
   "id": "dd6c5a97-87cb-4a62-b391-03809de27d20",
   "metadata": {},
   "outputs": [],
   "source": []
  },
  {
   "cell_type": "code",
   "execution_count": null,
   "id": "79ff0804-afac-402c-8f0b-45feb0f6973d",
   "metadata": {},
   "outputs": [],
   "source": []
  }
 ],
 "metadata": {
  "kernelspec": {
   "display_name": "Python 3 (ipykernel)",
   "language": "python",
   "name": "python3"
  },
  "language_info": {
   "codemirror_mode": {
    "name": "ipython",
    "version": 3
   },
   "file_extension": ".py",
   "mimetype": "text/x-python",
   "name": "python",
   "nbconvert_exporter": "python",
   "pygments_lexer": "ipython3",
   "version": "3.12.3"
  }
 },
 "nbformat": 4,
 "nbformat_minor": 5
}
